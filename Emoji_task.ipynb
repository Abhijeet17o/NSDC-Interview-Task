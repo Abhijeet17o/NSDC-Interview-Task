{
 "cells": [
  {
   "cell_type": "code",
   "execution_count": 34,
   "id": "d674b0de-be37-4839-b7cc-be68a7a2e214",
   "metadata": {},
   "outputs": [],
   "source": [
    "emoji_mapping = {\n",
    "    'A': '😀', 'B': '😁', 'C': '😂', 'D': '🤣', 'E': '😃', \n",
    "    'F': '😄', 'G': '😅', 'H': '😆', 'I': '😉', 'J': '😊', \n",
    "    'K': '😋', 'L': '😎', 'M': '😍', 'N': '😘', 'O': '🥰', \n",
    "    'P': '😗', 'Q': '😙', 'R': '🥲', 'S': '😚', 'T': '🥸', \n",
    "    'U': '🙂', 'V': '🤗', 'W': '🤩', 'X': '🤔', 'Y': '🫡', \n",
    "    'Z': '🤨', 'a': '😐', 'b': '😑', 'c': '🥳', 'd': '🫥', \n",
    "    'e': '😇', 'f': '🙄', 'g': '😏', 'h': '😣', 'i': '😥', \n",
    "    'j': '😮', 'k': '🤐', 'l': '😯', 'm': '😪', 'n': '😫', \n",
    "    'o': '🥱', 'p': '😴', 'q': '😌', 'r': '😛', 's': '😜', \n",
    "    't': '😝', 'u': '🤤', 'v': '😒', 'w': '😓', 'x': '😔', \n",
    "    'y': '😕', 'z': '🫤', '.': '🙃', ',': '🫠', '?': '🤑', \n",
    "    '!': '😲', ':': '☹️', ';': '🙁', '-': '😖', '_': '😞', \n",
    "    '+': '😟', '=': '😤', '/': '😢', '\\\\': '😭', '*': '😦', \n",
    "    '&': '😧', '%': '😨', '$': '😩', '#': '🤯', '@': '😬', \n",
    "    '^': '😮‍💨', '<': '😰', '>': '😱', '|': '🥵', '~': '🥶'\n",
    "}"
   ]
  },
  {
   "cell_type": "code",
   "execution_count": 35,
   "id": "8cb875f7-d1e7-4723-8635-831169daea42",
   "metadata": {},
   "outputs": [],
   "source": [
    "def encoder(in_str):\n",
    "    res = str()\n",
    "    for letter in in_str:\n",
    "        if letter == ' ':\n",
    "            res += ' '\n",
    "        else:\n",
    "            res += emoji_mapping[letter]\n",
    "\n",
    "    return res"
   ]
  },
  {
   "cell_type": "code",
   "execution_count": 36,
   "id": "542083a4-eefe-4a6b-99a4-d398682fc0c2",
   "metadata": {},
   "outputs": [],
   "source": [
    "def decoder(in_str):\n",
    "    res = str()\n",
    "    for emoji in in_str:\n",
    "        if emoji == ' ':\n",
    "            res += ' '\n",
    "        else:\n",
    "            for key, value in emoji_mapping.items():\n",
    "                if emoji == value:\n",
    "                    res += key\n",
    "    return res"
   ]
  },
  {
   "cell_type": "code",
   "execution_count": 37,
   "id": "bd0a08b4-7ac6-4ab8-aedb-c361602f2928",
   "metadata": {},
   "outputs": [
    {
     "name": "stdout",
     "output_type": "stream",
     "text": [
      "😐😑🥳🫥😇🙄😏😣😥😮🤐😯😪😫🥱😴😌😛😜😝🤤😒😓😔😕🫤\n"
     ]
    }
   ],
   "source": [
    "x = encoder(\"abcdefghijklmnopqrstuvwxyz\")\n",
    "print(x)"
   ]
  },
  {
   "cell_type": "code",
   "execution_count": 38,
   "id": "7ce3adad-5cd5-4623-972e-fa6c4604eefd",
   "metadata": {},
   "outputs": [
    {
     "name": "stdout",
     "output_type": "stream",
     "text": [
      "abcdefghijklmnopqrstuvwxyz\n"
     ]
    }
   ],
   "source": [
    "y = decoder(x)\n",
    "print(y)"
   ]
  },
  {
   "cell_type": "code",
   "execution_count": 39,
   "id": "0247c00a-19fe-4fea-9869-4432795b28e6",
   "metadata": {},
   "outputs": [],
   "source": [
    "def main():\n",
    "    var = int(input(\"What do you want to use\\nEncryption-1 OR Decryption-2:\"))\n",
    "    \n",
    "    if var == 1:\n",
    "        in_var1 = str(input(\"Input Text String: \"))\n",
    "        out1 = encoder(in_var1)\n",
    "        print(out1)\n",
    "        \n",
    "    elif var == 2:\n",
    "        in_var2 = str(input(\"Input Emoji String: \"))\n",
    "        out2 = encoder(in_var2)\n",
    "        print(out2)\n",
    "    \n",
    "    else:\n",
    "        print(\"Please choose a valid input\")"
   ]
  },
  {
   "cell_type": "code",
   "execution_count": null,
   "id": "de967e7b-3874-4166-9fc3-4b97aeae39dd",
   "metadata": {},
   "outputs": [],
   "source": [
    "main()"
   ]
  },
  {
   "cell_type": "code",
   "execution_count": 41,
   "id": "641fcb23-2b72-4964-a64e-08d40b3ebeab",
   "metadata": {},
   "outputs": [
    {
     "name": "stdin",
     "output_type": "stream",
     "text": [
      "What do you want to use\n",
      "Encryption-1 OR Decryption-2: 2\n",
      "Input Emoji String:  😅🥱🥱🫥 😍🥱😛😫😥😫😏\n"
     ]
    },
    {
     "ename": "KeyError",
     "evalue": "'😅'",
     "output_type": "error",
     "traceback": [
      "\u001b[1;31m---------------------------------------------------------------------------\u001b[0m",
      "\u001b[1;31mKeyError\u001b[0m                                  Traceback (most recent call last)",
      "Cell \u001b[1;32mIn[41], line 1\u001b[0m\n\u001b[1;32m----> 1\u001b[0m main()\n",
      "Cell \u001b[1;32mIn[39], line 11\u001b[0m, in \u001b[0;36mmain\u001b[1;34m()\u001b[0m\n\u001b[0;32m      9\u001b[0m \u001b[38;5;28;01melif\u001b[39;00m var \u001b[38;5;241m==\u001b[39m \u001b[38;5;241m2\u001b[39m:\n\u001b[0;32m     10\u001b[0m     in_var2 \u001b[38;5;241m=\u001b[39m \u001b[38;5;28mstr\u001b[39m(\u001b[38;5;28minput\u001b[39m(\u001b[38;5;124m\"\u001b[39m\u001b[38;5;124mInput Emoji String: \u001b[39m\u001b[38;5;124m\"\u001b[39m))\n\u001b[1;32m---> 11\u001b[0m     out2 \u001b[38;5;241m=\u001b[39m encoder(in_var2)\n\u001b[0;32m     12\u001b[0m     \u001b[38;5;28mprint\u001b[39m(out2)\n\u001b[0;32m     14\u001b[0m \u001b[38;5;28;01melse\u001b[39;00m:\n",
      "Cell \u001b[1;32mIn[35], line 7\u001b[0m, in \u001b[0;36mencoder\u001b[1;34m(in_str)\u001b[0m\n\u001b[0;32m      5\u001b[0m         res \u001b[38;5;241m+\u001b[39m\u001b[38;5;241m=\u001b[39m \u001b[38;5;124m'\u001b[39m\u001b[38;5;124m \u001b[39m\u001b[38;5;124m'\u001b[39m\n\u001b[0;32m      6\u001b[0m     \u001b[38;5;28;01melse\u001b[39;00m:\n\u001b[1;32m----> 7\u001b[0m         res \u001b[38;5;241m+\u001b[39m\u001b[38;5;241m=\u001b[39m emoji_mapping[letter]\n\u001b[0;32m      9\u001b[0m \u001b[38;5;28;01mreturn\u001b[39;00m res\n",
      "\u001b[1;31mKeyError\u001b[0m: '😅'"
     ]
    }
   ],
   "source": [
    "main()"
   ]
  }
 ],
 "metadata": {
  "kernelspec": {
   "display_name": "Python 3 (ipykernel)",
   "language": "python",
   "name": "python3"
  },
  "language_info": {
   "codemirror_mode": {
    "name": "ipython",
    "version": 3
   },
   "file_extension": ".py",
   "mimetype": "text/x-python",
   "name": "python",
   "nbconvert_exporter": "python",
   "pygments_lexer": "ipython3",
   "version": "3.11.7"
  }
 },
 "nbformat": 4,
 "nbformat_minor": 5
}
